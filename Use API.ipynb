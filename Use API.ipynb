{
 "cells": [
  {
   "cell_type": "code",
   "execution_count": 1,
   "metadata": {},
   "outputs": [
    {
     "name": "stderr",
     "output_type": "stream",
     "text": [
      "\n",
      "Bad key \"text.kerning_factor\" on line 4 in\n",
      "/opt/conda/lib/python3.7/site-packages/matplotlib/mpl-data/stylelib/_classic_test_patch.mplstyle.\n",
      "You probably need to get an updated matplotlibrc file from\n",
      "https://github.com/matplotlib/matplotlib/blob/v3.1.3/matplotlibrc.template\n",
      "or from the matplotlib source distribution\n"
     ]
    }
   ],
   "source": [
    "import diarization_vad\n",
    "import glob"
   ]
  },
  {
   "cell_type": "code",
   "execution_count": 2,
   "metadata": {},
   "outputs": [],
   "source": [
    "inp = '/workspace/DATASET/server9_ssd/voxsrc21_voxconverse/workshop_test_wav/ajjmr.wav'\n",
    "# inp_dir = '/workspace/DATASET/server9_ssd/voxsrc21_voxconverse/workshop_test_wav/'\n",
    "inp_dir = '/workspace/DATASET/server9_ssd/voxsrc21_voxconverse/voxconverse_dev_wav/'"
   ]
  },
  {
   "cell_type": "code",
   "execution_count": 3,
   "metadata": {},
   "outputs": [
    {
     "name": "stdout",
     "output_type": "stream",
     "text": [
      "EPACA-TDNN.py, Embedding size is 192, Channels 1024, Spec_aug False.\n"
     ]
    }
   ],
   "source": [
    "DIAR = diarization_vad.baseline_ASD_VAD()"
   ]
  },
  {
   "cell_type": "code",
   "execution_count": 4,
   "metadata": {},
   "outputs": [],
   "source": [
    "# diarization_vad.baseline_ASD_VAD(inp)"
   ]
  },
  {
   "cell_type": "code",
   "execution_count": 5,
   "metadata": {},
   "outputs": [],
   "source": [
    "# SPEAKER abjxc 1 0.090 6.750 <NA> <NA> 2 <NA> <NA>"
   ]
  },
  {
   "cell_type": "code",
   "execution_count": 6,
   "metadata": {},
   "outputs": [],
   "source": [
    "files = glob.glob(inp_dir+'*.wav')"
   ]
  },
  {
   "cell_type": "code",
   "execution_count": null,
   "metadata": {},
   "outputs": [
    {
     "name": "stdout",
     "output_type": "stream",
     "text": [
      "121\r"
     ]
    }
   ],
   "source": [
    "f = open('out.rttm', 'w')\n",
    "for c, i in enumerate(files):\n",
    "    print(c, end='\\r')\n",
    "    name = i.split('/')[-1][:-4]\n",
    "    a, b = DIAR.extract(i)\n",
    "    for j in a:\n",
    "        st, ed, spk = j.split(' ')\n",
    "        dur = float(ed) - float(st)\n",
    "        assert dur > 0\n",
    "        dur = str(dur)\n",
    "        if spk == 'silence':\n",
    "            continue\n",
    "        line = 'SPEAKER'+' '+name+' 1 '+st+' '+dur+' <NA> <NA> '+spk+' <NA> <NA>\\n'\n",
    "        f.write(line)\n",
    "f.close()"
   ]
  },
  {
   "cell_type": "code",
   "execution_count": null,
   "metadata": {},
   "outputs": [],
   "source": []
  },
  {
   "cell_type": "code",
   "execution_count": null,
   "metadata": {},
   "outputs": [],
   "source": []
  }
 ],
 "metadata": {
  "kernelspec": {
   "display_name": "Python 3",
   "language": "python",
   "name": "python3"
  },
  "language_info": {
   "codemirror_mode": {
    "name": "ipython",
    "version": 3
   },
   "file_extension": ".py",
   "mimetype": "text/x-python",
   "name": "python",
   "nbconvert_exporter": "python",
   "pygments_lexer": "ipython3",
   "version": "3.7.7"
  }
 },
 "nbformat": 4,
 "nbformat_minor": 4
}
